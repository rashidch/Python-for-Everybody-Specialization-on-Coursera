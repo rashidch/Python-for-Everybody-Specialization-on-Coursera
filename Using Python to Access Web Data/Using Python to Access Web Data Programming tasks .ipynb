{
 "cells": [
  {
   "cell_type": "code",
   "execution_count": 9,
   "metadata": {
    "collapsed": false
   },
   "outputs": [
    {
     "name": "stdout",
     "output_type": "stream",
     "text": [
      "sum: 300535\n"
     ]
    }
   ],
   "source": [
    "#Task-1\n",
    "import re\n",
    "hand = open('haystack.txt')\n",
    "sum1=0\n",
    "for line in hand:\n",
    "    num = re.findall('([0-9]+)', line)\n",
    "    if not num:\n",
    "        continue \n",
    "    else:\n",
    "        for n in num:\n",
    "            sum1 = sum1 + int(n)     \n",
    "print 'sum:', sum1"
   ]
  },
  {
   "cell_type": "code",
   "execution_count": 10,
   "metadata": {
    "collapsed": false
   },
   "outputs": [
    {
     "name": "stdout",
     "output_type": "stream",
     "text": [
      "HTTP/1.1 200 OK\r\n",
      "Date: Wed, 13 Sep 2017 12:53:55 GMT\r\n",
      "Server: Apache/2.4.7 (Ubuntu)\r\n",
      "Last-Modified: Sat, 13 May 2017 11:22:22 GMT\r\n",
      "ETag: \"1d3-54f6609240717\"\r\n",
      "Accept-Ranges: bytes\r\n",
      "Content-Length: 467\r\n",
      "Cache-Control: max-age=0, no-cache, no-store, must-revalidate\r\n",
      "Pragma: no-cache\r\n",
      "Expires: Wed, 11 Jan 1984 05:00:00 GMT\r\n",
      "Connection: close\r\n",
      "Content-Type: text/plain\r\n",
      "\r\n",
      "Why should you learn to write programs?\n",
      "\n",
      "Writing programs (or programming) is a very creative \n",
      "and rewarding activity.  You can write programs \n",
      "for \n",
      "many reasons, ranging from making your living to solving\n",
      "a difficult data analysis problem to having fun to helping\n",
      "someone else solve a problem.  This book assumes that \n",
      "everyone needs to know how to program, and that once \n",
      "you know how to program you will figure out what you want \n",
      "to do with your newfound skills.  \n",
      "\n"
     ]
    }
   ],
   "source": [
    "#Task-2\n",
    "import socket\n",
    "\n",
    "mysock = socket.socket(socket.AF_INET, socket.SOCK_STREAM)\n",
    "mysock.connect(('data.pr4e.org', 80))\n",
    "cmd ='GET http://data.pr4e.org/intro-short.txt HTTP/1.0\\r\\n\\r\\n'.encode()\n",
    "mysock.send(cmd)\n",
    "\n",
    "while True:\n",
    "    data = mysock.recv(512)\n",
    "    if (len(data) < 1):\n",
    "        break\n",
    "    print(data.decode())\n",
    "mysock.close()"
   ]
  },
  {
   "cell_type": "code",
   "execution_count": 11,
   "metadata": {
    "collapsed": false
   },
   "outputs": [
    {
     "name": "stdout",
     "output_type": "stream",
     "text": [
      "99\n",
      "196\n",
      "292\n",
      "387\n",
      "481\n",
      "574\n",
      "659\n",
      "741\n",
      "821\n",
      "900\n",
      "978\n",
      "1056\n",
      "1133\n",
      "1208\n",
      "1279\n",
      "1348\n",
      "1417\n",
      "1484\n",
      "1549\n",
      "1614\n",
      "1679\n",
      "1738\n",
      "1796\n",
      "1853\n",
      "1908\n",
      "1962\n",
      "2015\n",
      "2066\n",
      "2112\n",
      "2154\n",
      "2192\n",
      "2225\n",
      "2258\n",
      "2289\n",
      "2318\n",
      "2345\n",
      "2370\n",
      "2395\n",
      "2420\n",
      "2444\n",
      "2466\n",
      "2487\n",
      "2507\n",
      "2526\n",
      "2541\n",
      "2554\n",
      "2563\n",
      "2567\n",
      "2570\n",
      "2573\n"
     ]
    }
   ],
   "source": [
    "#Task-3\n",
    "import urllib\n",
    "from bs4 import BeautifulSoup \n",
    "import ssl\n",
    "\n",
    "# Ignore SSL certificate errors\n",
    "ctx = ssl.create_default_context()\n",
    "ctx.check_hostname = False\n",
    "ctx.verify_mode = ssl.CERT_NONE\n",
    "\n",
    "url = 'http://py4e-data.dr-chuck.net/comments_4602.html'\n",
    "html= urllib.urlopen(url,context=ctx).read()\n",
    "soup = BeautifulSoup(html, \"html.parser\")\n",
    "tags= soup('span')\n",
    "sum1=0\n",
    "numlist= list()\n",
    "for tag in tags:  \n",
    "    num= tag.contents[0]\n",
    "    sum1 = sum1 + int(num)\n",
    "    print sum1"
   ]
  },
  {
   "cell_type": "code",
   "execution_count": null,
   "metadata": {
    "collapsed": false
   },
   "outputs": [],
   "source": []
  },
  {
   "cell_type": "code",
   "execution_count": null,
   "metadata": {
    "collapsed": false,
    "scrolled": true
   },
   "outputs": [],
   "source": [
    "#Task-4\n",
    "import urllib\n",
    "from bs4 import BeautifulSoup\n",
    "url= raw_input(\"Enter URL:\")\n",
    "count = int(raw_input(\"Enter COUNT:\"))\n",
    "position= int(raw_input(\"Enter POSITION:\"))\n",
    "names= list()\n",
    "while count>0:\n",
    "    print \"retrieving: {0}\".format(url)\n",
    "    page = urllib.urlopen(url)\n",
    "    soup = BeautifulSoup(page)\n",
    "    anchors = soup('a')\n",
    "    name = anchors[position-1].string\n",
    "    names.append(name)\n",
    "    url= anchors[position-1]['href']\n",
    "    count -= 1\n",
    "    \n",
    "print names[-1]"
   ]
  },
  {
   "cell_type": "code",
   "execution_count": 13,
   "metadata": {
    "collapsed": false
   },
   "outputs": [
    {
     "name": "stdout",
     "output_type": "stream",
     "text": [
      "Enter URL:http://py4e-data.dr-chuck.net/comments_4604.xml\n",
      "Retrieving URL....\n",
      "Sum of Counts 2574\n"
     ]
    }
   ],
   "source": [
    "#Task-5\n",
    "#http://py4e-data.dr-chuck.net/comments_4604.xml\n",
    "import urllib\n",
    "import xml.etree.ElementTree as ET \n",
    "\n",
    "url= raw_input(\"Enter URL:\")\n",
    "\n",
    "print('Retrieving URL....')\n",
    "uh = urllib.urlopen(url)\n",
    "data = uh.read()\n",
    "tree = ET.fromstring(data)\n",
    "sum1=0\n",
    "\n",
    "results = tree.findall('.//count')\n",
    "for cont in results:\n",
    "    sum1= sum1+ int(cont.text)\n",
    "print 'Sum of Counts', sum1\n"
   ]
  },
  {
   "cell_type": "code",
   "execution_count": null,
   "metadata": {
    "collapsed": false
   },
   "outputs": [],
   "source": [
    "#task-6 \n",
    "import json\n",
    "url= raw_input(\"Enter URL:\")\n",
    "print('Retrieving URL....')\n",
    "uh = urllib.urlopen(url)\n",
    "data = uh.read()\n",
    "info = json.loads(data)\n",
    "sum1=0\n",
    "for comment in info[\"comments\"]:\n",
    "    sum1 = sum1+ int (comment[\"count\"])\n",
    "\n",
    "print sum1\n",
    "   "
   ]
  },
  {
   "cell_type": "code",
   "execution_count": null,
   "metadata": {
    "collapsed": false
   },
   "outputs": [],
   "source": [
    "import urllib\n",
    "import json\n",
    "\n",
    "# Note that Google is increasingly requiring keys\n",
    "# for this API\n",
    "serviceurl = 'http://py4e-data.dr-chuck.net/geojson'\n",
    "\n",
    "while True:\n",
    "    address = input('Enter location: ')\n",
    "    if len(address) < 1: break\n",
    "\n",
    "    url = serviceurl + urllib.urlencode(\n",
    "        {'sensor':'false', address:address})\n",
    "   # print(\"retrieving\", url)\n",
    "    uh = urllib.urlopen(url)\n",
    "    data = uh.read().decode()\n",
    "    print('Retrieved', len(data), 'characters')\n",
    "\n",
    "    try:\n",
    "        js = json.loads(data)\n",
    "    except:\n",
    "        js = None\n",
    "\n",
    "    if not js or 'status' not in js or js['status'] != 'OK':\n",
    "        print('==== Failure To Retrieve ====')\n",
    "        print(data)\n",
    "        continue\n",
    "\n",
    "    print(json.dumps(js, indent=4))\n",
    "\n",
    "    lat = js[\"results\"][0][\"geometry\"][\"location\"][\"lat\"]\n",
    "    lng = js[\"results\"][0][\"geometry\"][\"location\"][\"lng\"]\n",
    "    print('lat', lat, 'lng', lng)\n",
    "    location = js['results'][0]['formatted_address']\n",
    "    print(location)"
   ]
  },
  {
   "cell_type": "code",
   "execution_count": null,
   "metadata": {
    "collapsed": false
   },
   "outputs": [],
   "source": [
    "import urllib\n",
    "import json \n",
    "\n",
    "serviceurl = 'http://py4e-data.dr-chuck.net/geojson?'\n",
    "\n",
    "#while True:\n",
    "address = raw_input('Enter Location:')\n",
    "url= serviceurl + urllib.urlencode({'sensor':'false', 'address': address})\n",
    "print('Retrieving...', url)\n",
    "uh= urllib.urlopen(url)\n",
    "data= uh.read().decode('UTF-8')\n",
    "print('Retrieved', len(data), 'charachters')\n",
    "try:\n",
    "    js= json.loads(data)\n",
    "except:\n",
    "    js= None    \n",
    "pl_id= js[\"results\"][0][\"place_id\"]    \n",
    "\n",
    "print pl_id\n"
   ]
  }
 ],
 "metadata": {
  "kernelspec": {
   "display_name": "Python 2",
   "language": "python",
   "name": "python2"
  },
  "language_info": {
   "codemirror_mode": {
    "name": "ipython",
    "version": 2
   },
   "file_extension": ".py",
   "mimetype": "text/x-python",
   "name": "python",
   "nbconvert_exporter": "python",
   "pygments_lexer": "ipython2",
   "version": "2.7.13"
  }
 },
 "nbformat": 4,
 "nbformat_minor": 2
}
