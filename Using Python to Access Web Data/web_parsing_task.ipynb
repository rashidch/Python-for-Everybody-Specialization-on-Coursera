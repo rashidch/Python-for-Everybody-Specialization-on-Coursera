{
 "cells": [
  {
   "cell_type": "code",
   "execution_count": 1,
   "metadata": {
    "collapsed": true
   },
   "outputs": [],
   "source": [
    "import requests "
   ]
  },
  {
   "cell_type": "code",
   "execution_count": 8,
   "metadata": {
    "collapsed": true
   },
   "outputs": [],
   "source": [
    "responce = requests.get(\"http://www.mastersindatascience.org/industry/finance/\")"
   ]
  },
  {
   "cell_type": "code",
   "execution_count": 12,
   "metadata": {
    "collapsed": true
   },
   "outputs": [],
   "source": [
    "import bs4\n",
    "from bs4 import BeautifulSoup\n",
    "document = BeautifulSoup(responce.text, 'html.parser')"
   ]
  },
  {
   "cell_type": "code",
   "execution_count": 27,
   "metadata": {
    "collapsed": false
   },
   "outputs": [],
   "source": [
    "posts = document.findAll('div', {'class': 'entry-content'})\n"
   ]
  },
  {
   "cell_type": "code",
   "execution_count": 31,
   "metadata": {
    "collapsed": false
   },
   "outputs": [],
   "source": [
    "for post in posts:\n",
    "    post.getText().replace('\\n', '').strip(\",\")"
   ]
  },
  {
   "cell_type": "code",
   "execution_count": 34,
   "metadata": {
    "collapsed": false
   },
   "outputs": [
    {
     "name": "stdout",
     "output_type": "stream",
     "text": [
      "Opportunities in Finance Data Science\n",
      "The Promise of Big Data\n",
      "There has been an explosion in the velocity, variety and volume of financial data. Social media activity, mobile interactions, server logs, real-time market feeds, customer service records, transaction details, information from existing databases – there’s no end to the flood.\n",
      "To make sense of these giant data sets, companies are increasingly turning to data scientists for answers. These numbers gurus are:\n",
      "\n",
      "Capturing and analyzing new sources of data, building predictive models and running live simulations of market events\n",
      "Using technologies such as Hadoop, NoSQL and Storm to tap into non-traditional data sets (e.g., geolocation, sentiment data) and integrate them with more traditional numbers (e.g., trade data)\n",
      "Finding and storing increasingly diverse data in its raw form for future analysis\n",
      "\n",
      "They’ve been aided in this quest by the development of cloud-based data storage and the surge of sophisticated (and sometimes free or open-source) analytics tools. A serendipitous confluence of circumstances is leading to a host of new financial applications.\n",
      "Sentiment Analysis\n",
      "Sentiment analysis (aka opinion mining) applies natural-language processing, text analysis and computational linguistics to source material to discover what folks really think.\n",
      "Businesses like MarketPsy Capital, Think Big Analytics and MarketPsych Data are using it to:\n",
      "\n",
      "Build algorithms around market sentiment data (e.g., Twitter feeds) that can short the market when disasters (e.g., storms, terrorist attacks) occur\n",
      "Track trends, monitor the launch of new products, respond to issues and improve overall brand perception\n",
      "Analyze unstructured voice recordings from call centers and recommend ways to reduce customer churn, up-sell and cross-sell products and detect fraud\n",
      "\n",
      "Some data companies are even acting as intermediaries, collecting and selling sentiment indicators to retail investors.\n",
      "Automated Risk Credit Management\n",
      "Even in places where credit scoring is paltry or poor, Internet finance companies are finding ways to approve loans and manage risk. In Regulation Must Adapt to Big Data Revolution, Lei Yao and Chen Wei discuss the case of Alibaba’s Aliloan.\n",
      "Aliloan is an automated online system that provides flexible micro-loans to entrepreneurial online vendors. Due to their lack of collateral, many of these vendors have difficulty obtaining funds through traditional channels.\n",
      "\n",
      "To gauge whether a vendor is creditworthy, Alibaba collects data from its e-commerce and payment platforms and analyzes transaction records, customer ratings, shipping records and a host of other info.\n",
      "These findings are confirmed by third-party verification and cross-checked against external data sets (e.g., customs, tax data, electricity records, etc.).\n",
      "Once the loan is granted, Alibaba continues to monitor the use of funds and assess the business’s strategic development.\n",
      "\n",
      "Entrepreneurs in emerging markets are also reaping the benefits. Like Aliloan, companies such as Kreditech and Lenddo provide automated small loans based on innovative credit scoring techniques. In these cases, much of the score is calculated from applicants’ online social networking data.\n",
      "Real-Time Analytics\n",
      "In days of yore, financial institutions were hampered by the lag-time between data collection and data analysis. Real-time analytics short-circuits this problem and provides the industry with new ways to:\n",
      "\n",
      "Fight Financial Fraud: Banks and credit card companies routinely analyze account balances, spending patterns, credit history, employment details, location and a load of other data points to determine whether transactions are above aboard. If suspicious activity is detected, they can immediately suspend the account and alert the owner.\n",
      "Improve Credit Ratings: A continuous feed of online data means credit ratings can be updated in real time. This provides lenders with a more accurate picture of a customer’s assets, business operations and transaction history.\n",
      "Provide More Accurate Pricing: Progressive Insurance already tailors its policies to account for a customer’s changing financial situation. In the Internet of Things, data from automobile sensors will also help insurance companies issues its policy holders with warnings about accidents, traffic jams and weather conditions. That makes for safer drivers and fewer payouts.\n",
      "\n",
      "The Billion Prices project is an example of this phenomenon in action. Frustrated with the lag time on the U.S. Bureau of Labor Statistics’s consumer price index (CPI), MIT’s Alberto Cavallo and Roberto Rigobon turned to information from the web.\n",
      "Every day, their software collected half a million prices of products sold in the U.S. and analyzed the results. In 2008, just after Lehman Brothers filed for bankruptcy, their tool was able to detect a deflationary swing in prices far earlier than the official CPI report did.\n",
      "Today, banks and other major financial institutions use PriceStats – the project’s commercial spinoff – to analyze inflation trends around the world.\n",
      "Customer Segmentation\n",
      "Like every other industry on the planet, banks and financial institutions are hungry to know more about the people using their products and services. And though they already store a ton of data – from credit scores to day-to-day transactions – they’re not too proud to look for it elsewhere.\n",
      "As Sushil Pramanick notes in Big Data Use Cases – Banking and Financial Services, they continue to purchase data from a host of retailers and service providers in an effort to create a 360-degree view of their customers.\n",
      "This kind of customer segmentation allows them to:\n",
      "\n",
      "Offer customized product offerings and services\n",
      "Improve existing profitable relationships and avoid customer churn\n",
      "Create better marketing campaigns and more attractive product offerings\n",
      "Tailor product development to specific customer segments\n",
      "And more\n",
      "\n",
      "Predictive Analytics\n",
      "By combining segmentation with predictive analytics, companies can also cut down on risk. For example, to decide whether certain customers are likely to pay off their credit cards, some major banks use technology developed by the company Sqrrl. This analysis takes into account the demographic characteristics of customers’ neighborhoods and makes calculated predictions.\n",
      "Similar strides have been made in forecasting market behavior. Once upon a time (e.g., 2009), high-frequency trading – the speedy exchange of securities – was hugely lucrative. With competition came a drop in profits and the need for a new strategy.\n",
      "HFT traders adapted by employing strategic sequential trading, using big data analytics to identify specific market participants and anticipate their future actions. In a field of breakneck speed, this gives HFT traders an unmistakable advantage.\n",
      "Predictive analytics can also be used to issue early warnings on the market. In their paper, Quantifying Trading Behavior in Financial Markets Using Google Trends, Tobias Preis, Helen Susannah Moat and H. Eugene Stanley focused on the behavior of search engine users.\n",
      "By studying search volume data provided by Google Trends, they were able to identify online precursors for stock market moves. Their results suggest that increases in search volume for financially relevant search terms usually precede big losses in financial markets.\n",
      "Data Risks and Regulations\n",
      "The Importance of Data Humility\n",
      "The lack of an interdepartmental data strategy, data trapped in awkward and inaccessible “silos,” an inability to handle overwhelming volumes of information – the financial institution has a long way to go before it can claim it has a handle on big data.\n",
      "Another pitfall for data scientists is overestimating what the data can tell them. For example, Johan Bollen, Associate Professor at Indiana University’s School of Informatics and Computing, has estimated that even if social-sentiment trading signals achieve an accuracy of 80 percent, the margin of error is still enough to result in bankruptcy.\n",
      "That calls for a certain amount of data humility. As Rod Bodkin points out in Big Data Opens New Doors For Financial Analysts, tools like sentiment analysis need to be combined with other factors if institutions are to gain an accurate picture of events. He says, “You want to see a combination of sentiment plus some other factors like fundamentals, trading activity, and trending over time.”\n",
      "In fact, the market has already discovered that trusting faulty algorithms can lead to disastrous results:\n",
      "\n",
      "In May 2010, a flash crash – the largest intraday decline in the history of the Dow Jones Industrial Average – threw the market into temporary panic. U.S. regulars laid the blame on aggressive HFT trading.\n",
      "In April 2013, a fake tweet announced the White House had been subject to a terrorist attack. This faulty data point wiped out 1 percent of the Dow Jones in seconds.\n",
      "\n",
      "And then, of course, there’s a little thing called privacy…\n",
      "Fair Credit Reporting Act (FCRA)\n",
      "Financial institutions, unsurprisingly, are subject to some of the U.S. government’s most stringent privacy laws and regulations. Much of this deals with consumer rights.\n",
      "During the 1960s, the Retail Credit Company made a move to computerize its records. In response to consumer concern about the availability of information, the U.S. Congress held a series of hearings in 1970.\n",
      "The result was the Fair Credit Reporting Act (FCRA), which set forth legal standards governing the collection, use, and communication of credit and other information about consumers. This includes information about a consumer’s credit worthiness, credit standing, credit capacity, character, general reputation, personal characteristics, or mode of living, that is to be used for these purposes.\n",
      "The act applies to financial institutions and any business or individual who uses a consumer report for a business purpose.\n",
      "In addition to the FCRA, the Gramm-Leach-Bliley Act (GLBA) contains restrictions for disclosure of nonpublic personal information to nonaffiliated third parties. All financial institutions are required to provide consumers with a notice and opt-out opportunity.\n",
      "Equal Credit Opportunity Act (ECOA)\n",
      "At the moment, financial institutions are at liberty to use predictive and behavioral analytics. Provided, of course, that they’re not breaking the law.\n",
      "In 1974, the government passed the Equal Credit Opportunity Act (ECOA). The ECOA makes it unlawful for any creditor – including banks, retailers, bankcard companies, finance companies and credit unions – to discriminate against any applicant with respect to any aspect of a credit transaction:\n",
      "\n",
      "On the basis of race, color, religion, national origin, sex or marital status, or age (provided the applicant has the capacity to contract)\n",
      "Because all or part of the applicant’s income derives from any public assistance program\n",
      "Because the applicant has in good faith exercised any right under the Consumer Credit Protection Act\n",
      "\n",
      "Predictive models that unintentionally discriminate against applicants run the risk of running afoul of the long arm of the law.\n",
      "Keeping Data Safe\n",
      "In addition to using consumer data ethically, financial institutions are legally bound to store and protect it from theft.\n",
      "And theft is a huge problem. Verizon’s 2013 Data Breach Investigations Report noted that financial services accounted for the most data breaches in 2012.\n",
      "Examples of the Fed’s safety rules and regulations include:\n",
      "\n",
      "Bank Secrecy Act (BSA): This requires all U.S. financial institutions to keep records of cash purchases of negotiable instruments, file reports of cash transactions exceeding $10,000 (daily aggregate amount), and to report suspicious activity that might signify money laundering, tax evasion and other criminal activity.\n",
      "Fair and Accurate Credit Transactions Act (FACTA): FACTA contains several provisions that require financial institutions, creditors, and other businesses that rely on consumer reports to detect and resolve fraud by identity theft.\n",
      "FACTA Disposal Rule: The child of FACTA also states that any business or individual who uses a consumer report for a business purpose must properly dispose of the information in the consumer reports and records to protect against “unauthorized access to or use of the information.”\n",
      "Payment Application Data Security Standards (PA DSS): These data security standards apply to software vendors and others who develop applications that store, process, or transmit cardholder data as part of authorization or settlement, where these payment applications are sold, distributed or licensed to third parties.\n",
      "Payment Card Industry Standard (PCI DSS): PCI DSS provides a baseline of technical and operational requirements designed to protect cardholder data and requisites for compliance reporting and business certification for processors of cardholder data.\n",
      "\n",
      "As storage moves to the cloud and data access approaches the speed of light, financial institutions must be careful to keep their sensitive information very safe indeed.\n",
      "History of Data Analysis and Finance\n",
      "“Money management has been a profession involving a lot of fakery — people saying they can beat the market and they really can’t.” – Robert Shiller\n",
      "On the morning of March 22, 1899, in a rented office on the fifth floor of the Gould Building in Atlanta, a brand new company opened for business. Seated at their desks were two brothers: Cator and Guy Woolford. Printed on the door, in fresh black ink, was the sign, “Retail Credit Company.”\n",
      "Now known as Equifax, the Woolfords’ venture marked a turning point in the history of finance. Data intelligence, the Woolfords realized, could be profitable.\n",
      "The Rise of Credit Reports\n",
      "It began as the “Merchant’s Guide” – a $15 hard-covered book containing a list of customers and information on their creditworthiness. This enabled merchants and retailers to decide who should be entrusted with personal charge accounts.\n",
      "But the brothers quickly realized that 15-cent credit reports weren’t paying the bills. In 1901, they were saved from disaster by a request from a cashier from the Home Life of New York company. Could the Woolfords please supply information on three local applicants for life insurance?\n",
      "From that point on, the company became a behemoth. To provide accurate credit and insurance reports, Equifax began to:\n",
      "\n",
      "Collect data on the health, habits and morals of U.S. citizens\n",
      "Examine employment records and investigate financial decisions\n",
      "Accrue statistics on childhood, marriage, education and politics\n",
      "\n",
      "Nor was it alone in this endeavor. In 1969, TransUnion acquired 3.6 million card files stored in 400 cabinets – the valuable assets of the Credit Bureau of Cook County (CBCC).\n",
      "By the early 1970s, it had replaced this manual mess with automated tape-to-disc transfer.\n",
      "By the 1980s, it was part of one of the largest conglomerates in the country.\n",
      "A Revolutionary Concept: Credit Scores\n",
      "Meanwhile…\n",
      "Under the balmy skies of San Rafael in 1956, two alumni of the Stanford Research Institute (SRI) were setting up shop in a studio apartment on Lincoln Avenue.\n",
      "Bill Fair was an engineer; Earl Isaac was a mathematician. Both were aware of the power of computers through their research for the Defense Department. Both were enthralled with the potential of applying data analytics to solve business problems.\n",
      "In 1958, Fair, Isaac and Company (FICO) sent a letter to fifty of the largest U.S. credit grantors offering to demonstrate a new tool: credit scoring.\n",
      "As Larry E. Rosenberger and John Nash explain in The Deciding Factor: The Power of Analytics to Make Every Decision a Winner, this predictive analytics model:\n",
      "“…was the first to use historical data being captured by finance companies to predict a person’s creditworthiness based on their past behavior. The model produced a score, based on analysis of specific sets of numbers related to variables such as a person’s bank balance and payment records.”\n",
      "It was a revolutionary concept. With this simple score in hand, major lenders could instantly determine an applicant’s credit risk.\n",
      "Just one company responded to their letter.\n",
      "Making It Work\n",
      "Nevertheless, Fair Isaac’s model signaled the future of finance. Credit cards were taking the place of cash. Mainframe computers were becoming more ubiquitous. Data was going electronic.\n",
      "All of this information needed to be organized and put to good use:\n",
      "\n",
      "1960s: Conrad Hilton installed an IBM computer system for Carte Blanche that performed a daily check on the state of accounts and send reminders to delinquent cardholders.\n",
      "1972: Isaac’s software for the Automated Strategic Applications Processing (ASAP) system debuted at Well Fargo. Built on analytics models, this was the first automated loan application-processing system in the country.\n",
      "1975: Fair Isaac developed the first behavior scoring system to predict the credit risk of existing customers.\n",
      "\n",
      "To Market, To Market\n",
      "Savvy economists were equally excited by the potential of applying large-scale data analytics to the financial market.\n",
      "Take 1973 (the same year folks were gripped by the scandal of Watergate and dancing to reggae in the streets). Not many noticed when the Journal of Political Economy published a paper by Fischer Black and Myron Scholes entitled, “The Pricing of Options and Corporate Liabilities”. Nor did many care to read their descriptions of stochastic partial differential equations.\n",
      "Yet the creation of the Black-Scholes Model (as it would come to be known) was a key event in data science. Thanks to Black and Scholes, along with the subsequent work of Robert Merton, this model allowed traders to estimate the optimal price for stock options over time. It sliced risk off the buying and selling of underlying assets, prompted a boom in options trading and netted Merton and Scholes a Nobel Price in Economics.\n",
      "Harvard Meets Yale\n",
      "During the 1980s, a Harvard graduate and Vietnam vet named Karl Case was absorbed in an economics project. To study the ebb and flow of home pricing trends, Case had accrued several years of data on Boston house sales and was developing a rudimentary index to compare repeat sales of the same homes.\n",
      "In 1985, Case met Robert Shiller, a Yale economist interested in behavioral aspects of economic bubbles. Working together, Case and Shiller added housing data from other cities and refined Case’s work into the Case-Shiller index – a tool that could track the relative changes in the price of real estate over time.\n",
      "In 1989, they produced the first empirical paper on housing bubbles. Analysis of big data, they demonstrated, could be used for the greater good. Shiller went on to predict the stock market bubble of 2000 and forecast early warnings about the Great Recession. In 2013, he too won the Nobel Prize in Economics.\n",
      "The World Goes Online\n",
      "Then things got really fast.\n",
      "When the world came online in the late 20th century, a new economy sprang up overnight. The exchange of financial information increased exponentially. E-commerce companies grew like weeds. Investors heard the siren call of Silicon Valley. In 1999, there were 457 IPOs, most of which were technology-related.\n",
      "\n",
      "1995: Security First Network Bank, the first Internet bank in the world, was born.\n",
      "1998: PayPal launched its service for transferring payments through the Internet.\n",
      "2000: The dot.com bubble reached its limit on March 10. The NASDAQ peaked at 5408.60 in intraday trading and closed at 5048.62.\n",
      "\n",
      "The Internet also fundamentally changed how the financial industry conducted business. In the first decade of the 21st century:\n",
      "\n",
      "Investors from every corner of the planet could watch the leaps and plunges of the market unfold in real-time.\n",
      "Thanks to the widespread availability of market data, financial education tools and expert commentary, all users had the ability to educate themselves about the industry.\n",
      "Bank accounts, brokerages, investment management, insurance, credit cards, securities, futures – all these and more made a steady migration to online settings.\n",
      "Social media began to supply companies with an unfiltered view of consumer opinion.\n",
      "With the arrival of mobile devices, finance took to the streets, providing 24/7 access for every participant.\n",
      "\n",
      "\n",
      "\n",
      "\n",
      "\n",
      "\n",
      "Share on Facebook\n",
      "Share\n",
      "\n",
      "\n",
      "\n",
      "\n",
      "\n",
      "\n",
      "\n",
      "Share on TwitterTweet\n",
      "\n",
      "\n",
      "\n",
      "\n",
      "\n",
      "\n",
      "Share on LinkedIn\n",
      "Share\n",
      "\n",
      "\n",
      "\n",
      "\n"
     ]
    }
   ],
   "source": [
    "for post in posts:\n",
    "    print(post.getText())"
   ]
  },
  {
   "cell_type": "code",
   "execution_count": 82,
   "metadata": {
    "collapsed": false
   },
   "outputs": [],
   "source": [
    "import nltk\n",
    "from nltk.tokenize import regexp_tokenize\n",
    "for post in posts:\n",
    "    tokens = regexp_tokenize(post.getText(),'\\S+')\n"
   ]
  },
  {
   "cell_type": "code",
   "execution_count": 83,
   "metadata": {
    "collapsed": false
   },
   "outputs": [
    {
     "name": "stdout",
     "output_type": "stream",
     "text": [
      "[u'Opportunities', u'in', u'Finance', u'Data', u'Science', u'The', u'Promise', u'of', u'Big', u'Data', u'There', u'has', u'been', u'an', u'explosion', u'in', u'the', u'velocity,', u'variety', u'and', u'volume', u'of', u'financial', u'data.', u'Social', u'media', u'activity,', u'mobile', u'interactions,', u'server', u'logs,', u'real-time', u'market', u'feeds,', u'customer', u'service', u'records,', u'transaction', u'details,', u'information', u'from', u'existing', u'databases', u'\\u2013', u'there\\u2019s', u'no', u'end', u'to', u'the', u'flood.', u'To', u'make', u'sense', u'of', u'these', u'giant', u'data', u'sets,', u'companies', u'are', u'increasingly', u'turning', u'to', u'data', u'scientists', u'for', u'answers.', u'These', u'numbers', u'gurus', u'are:', u'Capturing', u'and', u'analyzing', u'new', u'sources', u'of', u'data,', u'building', u'predictive', u'models', u'and', u'running', u'live', u'simulations', u'of', u'market', u'events', u'Using', u'technologies', u'such', u'as', u'Hadoop,', u'NoSQL', u'and', u'Storm', u'to', u'tap', u'into', u'non-traditional', u'data', u'sets', u'(e.g.,', u'geolocation,', u'sentiment', u'data)', u'and', u'integrate', u'them', u'with', u'more', u'traditional', u'numbers', u'(e.g.,', u'trade', u'data)', u'Finding', u'and', u'storing', u'increasingly', u'diverse', u'data', u'in', u'its', u'raw', u'form', u'for', u'future', u'analysis', u'They\\u2019ve', u'been', u'aided', u'in', u'this', u'quest', u'by', u'the', u'development', u'of', u'cloud-based', u'data', u'storage', u'and', u'the', u'surge', u'of', u'sophisticated', u'(and', u'sometimes', u'free', u'or', u'open-source)', u'analytics', u'tools.', u'A', u'serendipitous', u'confluence', u'of', u'circumstances', u'is', u'leading', u'to', u'a', u'host', u'of', u'new', u'financial', u'applications.', u'Sentiment', u'Analysis', u'Sentiment', u'analysis', u'(aka', u'opinion', u'mining)', u'applies', u'natural-language', u'processing,', u'text', u'analysis', u'and', u'computational', u'linguistics', u'to', u'source', u'material', u'to', u'discover', u'what', u'folks', u'really', u'think.', u'Businesses', u'like', u'MarketPsy', u'Capital,', u'Think', u'Big', u'Analytics', u'and', u'MarketPsych', u'Data', u'are', u'using', u'it', u'to:', u'Build', u'algorithms', u'around', u'market', u'sentiment', u'data', u'(e.g.,', u'Twitter', u'feeds)', u'that', u'can', u'short', u'the', u'market', u'when', u'disasters', u'(e.g.,', u'storms,', u'terrorist', u'attacks)', u'occur', u'Track', u'trends,', u'monitor', u'the', u'launch', u'of', u'new', u'products,', u'respond', u'to', u'issues', u'and', u'improve', u'overall', u'brand', u'perception', u'Analyze', u'unstructured', u'voice', u'recordings', u'from', u'call', u'centers', u'and', u'recommend', u'ways', u'to', u'reduce', u'customer', u'churn,', u'up-sell', u'and', u'cross-sell', u'products', u'and', u'detect', u'fraud', u'Some', u'data', u'companies', u'are', u'even', u'acting', u'as', u'intermediaries,', u'collecting', u'and', u'selling', u'sentiment', u'indicators', u'to', u'retail', u'investors.', u'Automated', u'Risk', u'Credit', u'Management', u'Even', u'in', u'places', u'where', u'credit', u'scoring', u'is', u'paltry', u'or', u'poor,', u'Internet', u'finance', u'companies', u'are', u'finding', u'ways', u'to', u'approve', u'loans', u'and', u'manage', u'risk.', u'In', u'Regulation', u'Must', u'Adapt', u'to', u'Big', u'Data', u'Revolution,', u'Lei', u'Yao', u'and', u'Chen', u'Wei', u'discuss', u'the', u'case', u'of', u'Alibaba\\u2019s', u'Aliloan.', u'Aliloan', u'is', u'an', u'automated', u'online', u'system', u'that', u'provides', u'flexible', u'micro-loans', u'to', u'entrepreneurial', u'online', u'vendors.', u'Due', u'to', u'their', u'lack', u'of', u'collateral,', u'many', u'of', u'these', u'vendors', u'have', u'difficulty', u'obtaining', u'funds', u'through', u'traditional', u'channels.', u'To', u'gauge', u'whether', u'a', u'vendor', u'is', u'creditworthy,', u'Alibaba', u'collects', u'data', u'from', u'its', u'e-commerce', u'and', u'payment', u'platforms', u'and', u'analyzes', u'transaction', u'records,', u'customer', u'ratings,', u'shipping', u'records', u'and', u'a', u'host', u'of', u'other', u'info.', u'These', u'findings', u'are', u'confirmed', u'by', u'third-party', u'verification', u'and', u'cross-checked', u'against', u'external', u'data', u'sets', u'(e.g.,', u'customs,', u'tax', u'data,', u'electricity', u'records,', u'etc.).', u'Once', u'the', u'loan', u'is', u'granted,', u'Alibaba', u'continues', u'to', u'monitor', u'the', u'use', u'of', u'funds', u'and', u'assess', u'the', u'business\\u2019s', u'strategic', u'development.', u'Entrepreneurs', u'in', u'emerging', u'markets', u'are', u'also', u'reaping', u'the', u'benefits.', u'Like', u'Aliloan,', u'companies', u'such', u'as', u'Kreditech', u'and', u'Lenddo', u'provide', u'automated', u'small', u'loans', u'based', u'on', u'innovative', u'credit', u'scoring', u'techniques.', u'In', u'these', u'cases,', u'much', u'of', u'the', u'score', u'is', u'calculated', u'from', u'applicants\\u2019', u'online', u'social', u'networking', u'data.', u'Real-Time', u'Analytics', u'In', u'days', u'of', u'yore,', u'financial', u'institutions', u'were', u'hampered', u'by', u'the', u'lag-time', u'between', u'data', u'collection', u'and', u'data', u'analysis.', u'Real-time', u'analytics', u'short-circuits', u'this', u'problem', u'and', u'provides', u'the', u'industry', u'with', u'new', u'ways', u'to:', u'Fight', u'Financial', u'Fraud:', u'Banks', u'and', u'credit', u'card', u'companies', u'routinely', u'analyze', u'account', u'balances,', u'spending', u'patterns,', u'credit', u'history,', u'employment', u'details,', u'location', u'and', u'a', u'load', u'of', u'other', u'data', u'points', u'to', u'determine', u'whether', u'transactions', u'are', u'above', u'aboard.', u'If', u'suspicious', u'activity', u'is', u'detected,', u'they', u'can', u'immediately', u'suspend', u'the', u'account', u'and', u'alert', u'the', u'owner.', u'Improve', u'Credit', u'Ratings:', u'A', u'continuous', u'feed', u'of', u'online', u'data', u'means', u'credit', u'ratings', u'can', u'be', u'updated', u'in', u'real', u'time.', u'This', u'provides', u'lenders', u'with', u'a', u'more', u'accurate', u'picture', u'of', u'a', u'customer\\u2019s', u'assets,', u'business', u'operations', u'and', u'transaction', u'history.', u'Provide', u'More', u'Accurate', u'Pricing:', u'Progressive', u'Insurance', u'already', u'tailors', u'its', u'policies', u'to', u'account', u'for', u'a', u'customer\\u2019s', u'changing', u'financial', u'situation.', u'In', u'the', u'Internet', u'of', u'Things,', u'data', u'from', u'automobile', u'sensors', u'will', u'also', u'help', u'insurance', u'companies', u'issues', u'its', u'policy', u'holders', u'with', u'warnings', u'about', u'accidents,', u'traffic', u'jams', u'and', u'weather', u'conditions.', u'That', u'makes', u'for', u'safer', u'drivers', u'and', u'fewer', u'payouts.', u'The', u'Billion', u'Prices', u'project', u'is', u'an', u'example', u'of', u'this', u'phenomenon', u'in', u'action.', u'Frustrated', u'with', u'the', u'lag', u'time', u'on', u'the', u'U.S.', u'Bureau', u'of', u'Labor', u'Statistics\\u2019s', u'consumer', u'price', u'index', u'(CPI),', u'MIT\\u2019s', u'Alberto', u'Cavallo', u'and', u'Roberto', u'Rigobon', u'turned', u'to', u'information', u'from', u'the', u'web.', u'Every', u'day,', u'their', u'software', u'collected', u'half', u'a', u'million', u'prices', u'of', u'products', u'sold', u'in', u'the', u'U.S.', u'and', u'analyzed', u'the', u'results.', u'In', u'2008,', u'just', u'after', u'Lehman', u'Brothers', u'filed', u'for', u'bankruptcy,', u'their', u'tool', u'was', u'able', u'to', u'detect', u'a', u'deflationary', u'swing', u'in', u'prices', u'far', u'earlier', u'than', u'the', u'official', u'CPI', u'report', u'did.', u'Today,', u'banks', u'and', u'other', u'major', u'financial', u'institutions', u'use', u'PriceStats', u'\\u2013', u'the', u'project\\u2019s', u'commercial', u'spinoff', u'\\u2013', u'to', u'analyze', u'inflation', u'trends', u'around', u'the', u'world.', u'Customer', u'Segmentation', u'Like', u'every', u'other', u'industry', u'on', u'the', u'planet,', u'banks', u'and', u'financial', u'institutions', u'are', u'hungry', u'to', u'know', u'more', u'about', u'the', u'people', u'using', u'their', u'products', u'and', u'services.', u'And', u'though', u'they', u'already', u'store', u'a', u'ton', u'of', u'data', u'\\u2013', u'from', u'credit', u'scores', u'to', u'day-to-day', u'transactions', u'\\u2013', u'they\\u2019re', u'not', u'too', u'proud', u'to', u'look', u'for', u'it', u'elsewhere.', u'As', u'Sushil', u'Pramanick', u'notes', u'in', u'Big', u'Data', u'Use', u'Cases', u'\\u2013', u'Banking', u'and', u'Financial', u'Services,', u'they', u'continue', u'to', u'purchase', u'data', u'from', u'a', u'host', u'of', u'retailers', u'and', u'service', u'providers', u'in', u'an', u'effort', u'to', u'create', u'a', u'360-degree', u'view', u'of', u'their', u'customers.', u'This', u'kind', u'of', u'customer', u'segmentation', u'allows', u'them', u'to:', u'Offer', u'customized', u'product', u'offerings', u'and', u'services', u'Improve', u'existing', u'profitable', u'relationships', u'and', u'avoid', u'customer', u'churn', u'Create', u'better', u'marketing', u'campaigns', u'and', u'more', u'attractive', u'product', u'offerings', u'Tailor', u'product', u'development', u'to', u'specific', u'customer', u'segments', u'And', u'more', u'Predictive', u'Analytics', u'By', u'combining', u'segmentation', u'with', u'predictive', u'analytics,', u'companies', u'can', u'also', u'cut', u'down', u'on', u'risk.', u'For', u'example,', u'to', u'decide', u'whether', u'certain', u'customers', u'are', u'likely', u'to', u'pay', u'off', u'their', u'credit', u'cards,', u'some', u'major', u'banks', u'use', u'technology', u'developed', u'by', u'the', u'company', u'Sqrrl.', u'This', u'analysis', u'takes', u'into', u'account', u'the', u'demographic', u'characteristics', u'of', u'customers\\u2019', u'neighborhoods', u'and', u'makes', u'calculated', u'predictions.', u'Similar', u'strides', u'have', u'been', u'made', u'in', u'forecasting', u'market', u'behavior.', u'Once', u'upon', u'a', u'time', u'(e.g.,', u'2009),', u'high-frequency', u'trading', u'\\u2013', u'the', u'speedy', u'exchange', u'of', u'securities', u'\\u2013', u'was', u'hugely', u'lucrative.', u'With', u'competition', u'came', u'a', u'drop', u'in', u'profits', u'and', u'the', u'need', u'for', u'a', u'new', u'strategy.', u'HFT', u'traders', u'adapted', u'by', u'employing', u'strategic', u'sequential', u'trading,', u'using', u'big', u'data', u'analytics', u'to', u'identify', u'specific', u'market', u'participants', u'and', u'anticipate', u'their', u'future', u'actions.', u'In', u'a', u'field', u'of', u'breakneck', u'speed,', u'this', u'gives', u'HFT', u'traders', u'an', u'unmistakable', u'advantage.', u'Predictive', u'analytics', u'can', u'also', u'be', u'used', u'to', u'issue', u'early', u'warnings', u'on', u'the', u'market.', u'In', u'their', u'paper,', u'Quantifying', u'Trading', u'Behavior', u'in', u'Financial', u'Markets', u'Using', u'Google', u'Trends,', u'Tobias', u'Preis,', u'Helen', u'Susannah', u'Moat', u'and', u'H.', u'Eugene', u'Stanley', u'focused', u'on', u'the', u'behavior', u'of', u'search', u'engine', u'users.', u'By', u'studying', u'search', u'volume', u'data', u'provided', u'by', u'Google', u'Trends,', u'they', u'were', u'able', u'to', u'identify', u'online', u'precursors', u'for', u'stock', u'market', u'moves.', u'Their', u'results', u'suggest', u'that', u'increases', u'in', u'search', u'volume', u'for', u'financially', u'relevant', u'search', u'terms', u'usually', u'precede', u'big', u'losses', u'in', u'financial', u'markets.', u'Data', u'Risks', u'and', u'Regulations', u'The', u'Importance', u'of', u'Data', u'Humility', u'The', u'lack', u'of', u'an', u'interdepartmental', u'data', u'strategy,', u'data', u'trapped', u'in', u'awkward', u'and', u'inaccessible', u'\\u201csilos,\\u201d', u'an', u'inability', u'to', u'handle', u'overwhelming', u'volumes', u'of', u'information', u'\\u2013', u'the', u'financial', u'institution', u'has', u'a', u'long', u'way', u'to', u'go', u'before', u'it', u'can', u'claim', u'it', u'has', u'a', u'handle', u'on', u'big', u'data.', u'Another', u'pitfall', u'for', u'data', u'scientists', u'is', u'overestimating', u'what', u'the', u'data', u'can', u'tell', u'them.', u'For', u'example,', u'Johan', u'Bollen,', u'Associate', u'Professor', u'at', u'Indiana', u'University\\u2019s', u'School', u'of', u'Informatics', u'and', u'Computing,', u'has', u'estimated', u'that', u'even', u'if', u'social-sentiment', u'trading', u'signals', u'achieve', u'an', u'accuracy', u'of', u'80', u'percent,', u'the', u'margin', u'of', u'error', u'is', u'still', u'enough', u'to', u'result', u'in', u'bankruptcy.', u'That', u'calls', u'for', u'a', u'certain', u'amount', u'of', u'data', u'humility.', u'As', u'Rod', u'Bodkin', u'points', u'out', u'in', u'Big', u'Data', u'Opens', u'New', u'Doors', u'For', u'Financial', u'Analysts,', u'tools', u'like', u'sentiment', u'analysis', u'need', u'to', u'be', u'combined', u'with', u'other', u'factors', u'if', u'institutions', u'are', u'to', u'gain', u'an', u'accurate', u'picture', u'of', u'events.', u'He', u'says,', u'\\u201cYou', u'want', u'to', u'see', u'a', u'combination', u'of', u'sentiment', u'plus', u'some', u'other', u'factors', u'like', u'fundamentals,', u'trading', u'activity,', u'and', u'trending', u'over', u'time.\\u201d', u'In', u'fact,', u'the', u'market', u'has', u'already', u'discovered', u'that', u'trusting', u'faulty', u'algorithms', u'can', u'lead', u'to', u'disastrous', u'results:', u'In', u'May', u'2010,', u'a', u'flash', u'crash', u'\\u2013', u'the', u'largest', u'intraday', u'decline', u'in', u'the', u'history', u'of', u'the', u'Dow', u'Jones', u'Industrial', u'Average', u'\\u2013', u'threw', u'the', u'market', u'into', u'temporary', u'panic.', u'U.S.', u'regulars', u'laid', u'the', u'blame', u'on', u'aggressive', u'HFT', u'trading.', u'In', u'April', u'2013,', u'a', u'fake', u'tweet', u'announced', u'the', u'White', u'House', u'had', u'been', u'subject', u'to', u'a', u'terrorist', u'attack.', u'This', u'faulty', u'data', u'point', u'wiped', u'out', u'1', u'percent', u'of', u'the', u'Dow', u'Jones', u'in', u'seconds.', u'And', u'then,', u'of', u'course,', u'there\\u2019s', u'a', u'little', u'thing', u'called', u'privacy\\u2026', u'Fair', u'Credit', u'Reporting', u'Act', u'(FCRA)', u'Financial', u'institutions,', u'unsurprisingly,', u'are', u'subject', u'to', u'some', u'of', u'the', u'U.S.', u'government\\u2019s', u'most', u'stringent', u'privacy', u'laws', u'and', u'regulations.', u'Much', u'of', u'this', u'deals', u'with', u'consumer', u'rights.', u'During', u'the', u'1960s,', u'the', u'Retail', u'Credit', u'Company', u'made', u'a', u'move', u'to', u'computerize', u'its', u'records.', u'In', u'response', u'to', u'consumer', u'concern', u'about', u'the', u'availability', u'of', u'information,', u'the', u'U.S.', u'Congress', u'held', u'a', u'series', u'of', u'hearings', u'in', u'1970.', u'The', u'result', u'was', u'the', u'Fair', u'Credit', u'Reporting', u'Act', u'(FCRA),', u'which', u'set', u'forth', u'legal', u'standards', u'governing', u'the', u'collection,', u'use,', u'and', u'communication', u'of', u'credit', u'and', u'other', u'information', u'about', u'consumers.', u'This', u'includes', u'information', u'about', u'a', u'consumer\\u2019s', u'credit', u'worthiness,', u'credit', u'standing,', u'credit', u'capacity,', u'character,', u'general', u'reputation,', u'personal', u'characteristics,', u'or', u'mode', u'of', u'living,', u'that', u'is', u'to', u'be', u'used', u'for', u'these', u'purposes.', u'The', u'act', u'applies', u'to', u'financial', u'institutions', u'and', u'any', u'business', u'or', u'individual', u'who', u'uses', u'a', u'consumer', u'report', u'for', u'a', u'business', u'purpose.', u'In', u'addition', u'to', u'the', u'FCRA,', u'the', u'Gramm-Leach-Bliley', u'Act', u'(GLBA)', u'contains', u'restrictions', u'for', u'disclosure', u'of', u'nonpublic', u'personal', u'information', u'to', u'nonaffiliated', u'third', u'parties.', u'All', u'financial', u'institutions', u'are', u'required', u'to', u'provide', u'consumers', u'with', u'a', u'notice', u'and', u'opt-out', u'opportunity.', u'Equal', u'Credit', u'Opportunity', u'Act', u'(ECOA)', u'At', u'the', u'moment,', u'financial', u'institutions', u'are', u'at', u'liberty', u'to', u'use', u'predictive', u'and', u'behavioral', u'analytics.', u'Provided,', u'of', u'course,', u'that', u'they\\u2019re', u'not', u'breaking', u'the', u'law.', u'In', u'1974,', u'the', u'government', u'passed', u'the', u'Equal', u'Credit', u'Opportunity', u'Act', u'(ECOA).', u'The', u'ECOA', u'makes', u'it', u'unlawful', u'for', u'any', u'creditor', u'\\u2013', u'including', u'banks,', u'retailers,', u'bankcard', u'companies,', u'finance', u'companies', u'and', u'credit', u'unions', u'\\u2013', u'to', u'discriminate', u'against', u'any', u'applicant', u'with', u'respect', u'to', u'any', u'aspect', u'of', u'a', u'credit', u'transaction:', u'On', u'the', u'basis', u'of', u'race,', u'color,', u'religion,', u'national', u'origin,', u'sex', u'or', u'marital', u'status,', u'or', u'age', u'(provided', u'the', u'applicant', u'has', u'the', u'capacity', u'to', u'contract)', u'Because', u'all', u'or', u'part', u'of', u'the', u'applicant\\u2019s', u'income', u'derives', u'from', u'any', u'public', u'assistance', u'program', u'Because', u'the', u'applicant', u'has', u'in', u'good', u'faith', u'exercised', u'any', u'right', u'under', u'the', u'Consumer', u'Credit', u'Protection', u'Act', u'Predictive', u'models', u'that', u'unintentionally', u'discriminate', u'against', u'applicants', u'run', u'the', u'risk', u'of', u'running', u'afoul', u'of', u'the', u'long', u'arm', u'of', u'the', u'law.', u'Keeping', u'Data', u'Safe', u'In', u'addition', u'to', u'using', u'consumer', u'data', u'ethically,', u'financial', u'institutions', u'are', u'legally', u'bound', u'to', u'store', u'and', u'protect', u'it', u'from', u'theft.', u'And', u'theft', u'is', u'a', u'huge', u'problem.', u'Verizon\\u2019s', u'2013', u'Data', u'Breach', u'Investigations', u'Report', u'noted', u'that', u'financial', u'services', u'accounted', u'for', u'the', u'most', u'data', u'breaches', u'in', u'2012.', u'Examples', u'of', u'the', u'Fed\\u2019s', u'safety', u'rules', u'and', u'regulations', u'include:', u'Bank', u'Secrecy', u'Act', u'(BSA):', u'This', u'requires', u'all', u'U.S.', u'financial', u'institutions', u'to', u'keep', u'records', u'of', u'cash', u'purchases', u'of', u'negotiable', u'instruments,', u'file', u'reports', u'of', u'cash', u'transactions', u'exceeding', u'$10,000', u'(daily', u'aggregate', u'amount),', u'and', u'to', u'report', u'suspicious', u'activity', u'that', u'might', u'signify', u'money', u'laundering,', u'tax', u'evasion', u'and', u'other', u'criminal', u'activity.', u'Fair', u'and', u'Accurate', u'Credit', u'Transactions', u'Act', u'(FACTA):', u'FACTA', u'contains', u'several', u'provisions', u'that', u'require', u'financial', u'institutions,', u'creditors,', u'and', u'other', u'businesses', u'that', u'rely', u'on', u'consumer', u'reports', u'to', u'detect', u'and', u'resolve', u'fraud', u'by', u'identity', u'theft.', u'FACTA', u'Disposal', u'Rule:', u'The', u'child', u'of', u'FACTA', u'also', u'states', u'that', u'any', u'business', u'or', u'individual', u'who', u'uses', u'a', u'consumer', u'report', u'for', u'a', u'business', u'purpose', u'must', u'properly', u'dispose', u'of', u'the', u'information', u'in', u'the', u'consumer', u'reports', u'and', u'records', u'to', u'protect', u'against', u'\\u201cunauthorized', u'access', u'to', u'or', u'use', u'of', u'the', u'information.\\u201d', u'Payment', u'Application', u'Data', u'Security', u'Standards', u'(PA', u'DSS):', u'These', u'data', u'security', u'standards', u'apply', u'to', u'software', u'vendors', u'and', u'others', u'who', u'develop', u'applications', u'that', u'store,', u'process,', u'or', u'transmit', u'cardholder', u'data', u'as', u'part', u'of', u'authorization', u'or', u'settlement,', u'where', u'these', u'payment', u'applications', u'are', u'sold,', u'distributed', u'or', u'licensed', u'to', u'third', u'parties.', u'Payment', u'Card', u'Industry', u'Standard', u'(PCI', u'DSS):', u'PCI', u'DSS', u'provides', u'a', u'baseline', u'of', u'technical', u'and', u'operational', u'requirements', u'designed', u'to', u'protect', u'cardholder', u'data', u'and', u'requisites', u'for', u'compliance', u'reporting', u'and', u'business', u'certification', u'for', u'processors', u'of', u'cardholder', u'data.', u'As', u'storage', u'moves', u'to', u'the', u'cloud', u'and', u'data', u'access', u'approaches', u'the', u'speed', u'of', u'light,', u'financial', u'institutions', u'must', u'be', u'careful', u'to', u'keep', u'their', u'sensitive', u'information', u'very', u'safe', u'indeed.', u'History', u'of', u'Data', u'Analysis', u'and', u'Finance', u'\\u201cMoney', u'management', u'has', u'been', u'a', u'profession', u'involving', u'a', u'lot', u'of', u'fakery', u'\\u2014', u'people', u'saying', u'they', u'can', u'beat', u'the', u'market', u'and', u'they', u'really', u'can\\u2019t.\\u201d', u'\\u2013', u'Robert', u'Shiller', u'On', u'the', u'morning', u'of', u'March', u'22,', u'1899,', u'in', u'a', u'rented', u'office', u'on', u'the', u'fifth', u'floor', u'of', u'the', u'Gould', u'Building', u'in', u'Atlanta,', u'a', u'brand', u'new', u'company', u'opened', u'for', u'business.', u'Seated', u'at', u'their', u'desks', u'were', u'two', u'brothers:', u'Cator', u'and', u'Guy', u'Woolford.', u'Printed', u'on', u'the', u'door,', u'in', u'fresh', u'black', u'ink,', u'was', u'the', u'sign,', u'\\u201cRetail', u'Credit', u'Company.\\u201d', u'Now', u'known', u'as', u'Equifax,', u'the', u'Woolfords\\u2019', u'venture', u'marked', u'a', u'turning', u'point', u'in', u'the', u'history', u'of', u'finance.', u'Data', u'intelligence,', u'the', u'Woolfords', u'realized,', u'could', u'be', u'profitable.', u'The', u'Rise', u'of', u'Credit', u'Reports', u'It', u'began', u'as', u'the', u'\\u201cMerchant\\u2019s', u'Guide\\u201d', u'\\u2013', u'a', u'$15', u'hard-covered', u'book', u'containing', u'a', u'list', u'of', u'customers', u'and', u'information', u'on', u'their', u'creditworthiness.', u'This', u'enabled', u'merchants', u'and', u'retailers', u'to', u'decide', u'who', u'should', u'be', u'entrusted', u'with', u'personal', u'charge', u'accounts.', u'But', u'the', u'brothers', u'quickly', u'realized', u'that', u'15-cent', u'credit', u'reports', u'weren\\u2019t', u'paying', u'the', u'bills.', u'In', u'1901,', u'they', u'were', u'saved', u'from', u'disaster', u'by', u'a', u'request', u'from', u'a', u'cashier', u'from', u'the', u'Home', u'Life', u'of', u'New', u'York', u'company.', u'Could', u'the', u'Woolfords', u'please', u'supply', u'information', u'on', u'three', u'local', u'applicants', u'for', u'life', u'insurance?', u'From', u'that', u'point', u'on,', u'the', u'company', u'became', u'a', u'behemoth.', u'To', u'provide', u'accurate', u'credit', u'and', u'insurance', u'reports,', u'Equifax', u'began', u'to:', u'Collect', u'data', u'on', u'the', u'health,', u'habits', u'and', u'morals', u'of', u'U.S.', u'citizens', u'Examine', u'employment', u'records', u'and', u'investigate', u'financial', u'decisions', u'Accrue', u'statistics', u'on', u'childhood,', u'marriage,', u'education', u'and', u'politics', u'Nor', u'was', u'it', u'alone', u'in', u'this', u'endeavor.', u'In', u'1969,', u'TransUnion', u'acquired', u'3.6', u'million', u'card', u'files', u'stored', u'in', u'400', u'cabinets', u'\\u2013', u'the', u'valuable', u'assets', u'of', u'the', u'Credit', u'Bureau', u'of', u'Cook', u'County', u'(CBCC).', u'By', u'the', u'early', u'1970s,', u'it', u'had', u'replaced', u'this', u'manual', u'mess', u'with', u'automated', u'tape-to-disc', u'transfer.', u'By', u'the', u'1980s,', u'it', u'was', u'part', u'of', u'one', u'of', u'the', u'largest', u'conglomerates', u'in', u'the', u'country.', u'A', u'Revolutionary', u'Concept:', u'Credit', u'Scores', u'Meanwhile\\u2026', u'Under', u'the', u'balmy', u'skies', u'of', u'San', u'Rafael', u'in', u'1956,', u'two', u'alumni', u'of', u'the', u'Stanford', u'Research', u'Institute', u'(SRI)', u'were', u'setting', u'up', u'shop', u'in', u'a', u'studio', u'apartment', u'on', u'Lincoln', u'Avenue.', u'Bill', u'Fair', u'was', u'an', u'engineer;', u'Earl', u'Isaac', u'was', u'a', u'mathematician.', u'Both', u'were', u'aware', u'of', u'the', u'power', u'of', u'computers', u'through', u'their', u'research', u'for', u'the', u'Defense', u'Department.', u'Both', u'were', u'enthralled', u'with', u'the', u'potential', u'of', u'applying', u'data', u'analytics', u'to', u'solve', u'business', u'problems.', u'In', u'1958,', u'Fair,', u'Isaac', u'and', u'Company', u'(FICO)', u'sent', u'a', u'letter', u'to', u'fifty', u'of', u'the', u'largest', u'U.S.', u'credit', u'grantors', u'offering', u'to', u'demonstrate', u'a', u'new', u'tool:', u'credit', u'scoring.', u'As', u'Larry', u'E.', u'Rosenberger', u'and', u'John', u'Nash', u'explain', u'in', u'The', u'Deciding', u'Factor:', u'The', u'Power', u'of', u'Analytics', u'to', u'Make', u'Every', u'Decision', u'a', u'Winner,', u'this', u'predictive', u'analytics', u'model:', u'\\u201c\\u2026was', u'the', u'first', u'to', u'use', u'historical', u'data', u'being', u'captured', u'by', u'finance', u'companies', u'to', u'predict', u'a', u'person\\u2019s', u'creditworthiness', u'based', u'on', u'their', u'past', u'behavior.', u'The', u'model', u'produced', u'a', u'score,', u'based', u'on', u'analysis', u'of', u'specific', u'sets', u'of', u'numbers', u'related', u'to', u'variables', u'such', u'as', u'a', u'person\\u2019s', u'bank', u'balance', u'and', u'payment', u'records.\\u201d', u'It', u'was', u'a', u'revolutionary', u'concept.', u'With', u'this', u'simple', u'score', u'in', u'hand,', u'major', u'lenders', u'could', u'instantly', u'determine', u'an', u'applicant\\u2019s', u'credit', u'risk.', u'Just', u'one', u'company', u'responded', u'to', u'their', u'letter.', u'Making', u'It', u'Work', u'Nevertheless,', u'Fair', u'Isaac\\u2019s', u'model', u'signaled', u'the', u'future', u'of', u'finance.', u'Credit', u'cards', u'were', u'taking', u'the', u'place', u'of', u'cash.', u'Mainframe', u'computers', u'were', u'becoming', u'more', u'ubiquitous.', u'Data', u'was', u'going', u'electronic.', u'All', u'of', u'this', u'information', u'needed', u'to', u'be', u'organized', u'and', u'put', u'to', u'good', u'use:', u'1960s:', u'Conrad', u'Hilton', u'installed', u'an', u'IBM', u'computer', u'system', u'for', u'Carte', u'Blanche', u'that', u'performed', u'a', u'daily', u'check', u'on', u'the', u'state', u'of', u'accounts', u'and', u'send', u'reminders', u'to', u'delinquent', u'cardholders.', u'1972:', u'Isaac\\u2019s', u'software', u'for', u'the', u'Automated', u'Strategic', u'Applications', u'Processing', u'(ASAP)', u'system', u'debuted', u'at', u'Well', u'Fargo.', u'Built', u'on', u'analytics', u'models,', u'this', u'was', u'the', u'first', u'automated', u'loan', u'application-processing', u'system', u'in', u'the', u'country.', u'1975:', u'Fair', u'Isaac', u'developed', u'the', u'first', u'behavior', u'scoring', u'system', u'to', u'predict', u'the', u'credit', u'risk', u'of', u'existing', u'customers.', u'To', u'Market,', u'To', u'Market', u'Savvy', u'economists', u'were', u'equally', u'excited', u'by', u'the', u'potential', u'of', u'applying', u'large-scale', u'data', u'analytics', u'to', u'the', u'financial', u'market.', u'Take', u'1973', u'(the', u'same', u'year', u'folks', u'were', u'gripped', u'by', u'the', u'scandal', u'of', u'Watergate', u'and', u'dancing', u'to', u'reggae', u'in', u'the', u'streets).', u'Not', u'many', u'noticed', u'when', u'the', u'Journal', u'of', u'Political', u'Economy', u'published', u'a', u'paper', u'by', u'Fischer', u'Black', u'and', u'Myron', u'Scholes', u'entitled,', u'\\u201cThe', u'Pricing', u'of', u'Options', u'and', u'Corporate', u'Liabilities\\u201d.', u'Nor', u'did', u'many', u'care', u'to', u'read', u'their', u'descriptions', u'of', u'stochastic', u'partial', u'differential', u'equations.', u'Yet', u'the', u'creation', u'of', u'the', u'Black-Scholes', u'Model', u'(as', u'it', u'would', u'come', u'to', u'be', u'known)', u'was', u'a', u'key', u'event', u'in', u'data', u'science.', u'Thanks', u'to', u'Black', u'and', u'Scholes,', u'along', u'with', u'the', u'subsequent', u'work', u'of', u'Robert', u'Merton,', u'this', u'model', u'allowed', u'traders', u'to', u'estimate', u'the', u'optimal', u'price', u'for', u'stock', u'options', u'over', u'time.', u'It', u'sliced', u'risk', u'off', u'the', u'buying', u'and', u'selling', u'of', u'underlying', u'assets,', u'prompted', u'a', u'boom', u'in', u'options', u'trading', u'and', u'netted', u'Merton', u'and', u'Scholes', u'a', u'Nobel', u'Price', u'in', u'Economics.', u'Harvard', u'Meets', u'Yale', u'During', u'the', u'1980s,', u'a', u'Harvard', u'graduate', u'and', u'Vietnam', u'vet', u'named', u'Karl', u'Case', u'was', u'absorbed', u'in', u'an', u'economics', u'project.', u'To', u'study', u'the', u'ebb', u'and', u'flow', u'of', u'home', u'pricing', u'trends,', u'Case', u'had', u'accrued', u'several', u'years', u'of', u'data', u'on', u'Boston', u'house', u'sales', u'and', u'was', u'developing', u'a', u'rudimentary', u'index', u'to', u'compare', u'repeat', u'sales', u'of', u'the', u'same', u'homes.', u'In', u'1985,', u'Case', u'met', u'Robert', u'Shiller,', u'a', u'Yale', u'economist', u'interested', u'in', u'behavioral', u'aspects', u'of', u'economic', u'bubbles.', u'Working', u'together,', u'Case', u'and', u'Shiller', u'added', u'housing', u'data', u'from', u'other', u'cities', u'and', u'refined', u'Case\\u2019s', u'work', u'into', u'the', u'Case-Shiller', u'index', u'\\u2013', u'a', u'tool', u'that', u'could', u'track', u'the', u'relative', u'changes', u'in', u'the', u'price', u'of', u'real', u'estate', u'over', u'time.', u'In', u'1989,', u'they', u'produced', u'the', u'first', u'empirical', u'paper', u'on', u'housing', u'bubbles.', u'Analysis', u'of', u'big', u'data,', u'they', u'demonstrated,', u'could', u'be', u'used', u'for', u'the', u'greater', u'good.', u'Shiller', u'went', u'on', u'to', u'predict', u'the', u'stock', u'market', u'bubble', u'of', u'2000', u'and', u'forecast', u'early', u'warnings', u'about', u'the', u'Great', u'Recession.', u'In', u'2013,', u'he', u'too', u'won', u'the', u'Nobel', u'Prize', u'in', u'Economics.', u'The', u'World', u'Goes', u'Online', u'Then', u'things', u'got', u'really', u'fast.', u'When', u'the', u'world', u'came', u'online', u'in', u'the', u'late', u'20th', u'century,', u'a', u'new', u'economy', u'sprang', u'up', u'overnight.', u'The', u'exchange', u'of', u'financial', u'information', u'increased', u'exponentially.', u'E-commerce', u'companies', u'grew', u'like', u'weeds.', u'Investors', u'heard', u'the', u'siren', u'call', u'of', u'Silicon', u'Valley.', u'In', u'1999,', u'there', u'were', u'457', u'IPOs,', u'most', u'of', u'which', u'were', u'technology-related.', u'1995:', u'Security', u'First', u'Network', u'Bank,', u'the', u'first', u'Internet', u'bank', u'in', u'the', u'world,', u'was', u'born.', u'1998:', u'PayPal', u'launched', u'its', u'service', u'for', u'transferring', u'payments', u'through', u'the', u'Internet.', u'2000:', u'The', u'dot.com', u'bubble', u'reached', u'its', u'limit', u'on', u'March', u'10.', u'The', u'NASDAQ', u'peaked', u'at', u'5408.60', u'in', u'intraday', u'trading', u'and', u'closed', u'at', u'5048.62.', u'The', u'Internet', u'also', u'fundamentally', u'changed', u'how', u'the', u'financial', u'industry', u'conducted', u'business.', u'In', u'the', u'first', u'decade', u'of', u'the', u'21st', u'century:', u'Investors', u'from', u'every', u'corner', u'of', u'the', u'planet', u'could', u'watch', u'the', u'leaps', u'and', u'plunges', u'of', u'the', u'market', u'unfold', u'in', u'real-time.', u'Thanks', u'to', u'the', u'widespread', u'availability', u'of', u'market', u'data,', u'financial', u'education', u'tools', u'and', u'expert', u'commentary,', u'all', u'users', u'had', u'the', u'ability', u'to', u'educate', u'themselves', u'about', u'the', u'industry.', u'Bank', u'accounts,', u'brokerages,', u'investment', u'management,', u'insurance,', u'credit', u'cards,', u'securities,', u'futures', u'\\u2013', u'all', u'these', u'and', u'more', u'made', u'a', u'steady', u'migration', u'to', u'online', u'settings.', u'Social', u'media', u'began', u'to', u'supply', u'companies', u'with', u'an', u'unfiltered', u'view', u'of', u'consumer', u'opinion.', u'With', u'the', u'arrival', u'of', u'mobile', u'devices,', u'finance', u'took', u'to', u'the', u'streets,', u'providing', u'24/7', u'access', u'for', u'every', u'participant.', u'Share', u'on', u'Facebook', u'Share', u'Share', u'on', u'TwitterTweet', u'Share', u'on', u'LinkedIn', u'Share']\n"
     ]
    }
   ],
   "source": [
    "print(tokens) "
   ]
  },
  {
   "cell_type": "code",
   "execution_count": 99,
   "metadata": {
    "collapsed": false
   },
   "outputs": [],
   "source": [
    "from nltk.stem import SnowballStemmer\n",
    "space = ' '\n",
    "stemmer = SnowballStemmer(\"english\")\n",
    "for token in tokens:\n",
    "    stem = stem + \" \" +stemmer.stem(token)\n",
    "   "
   ]
  },
  {
   "cell_type": "code",
   "execution_count": 140,
   "metadata": {
    "collapsed": false
   },
   "outputs": [],
   "source": [
    "stem"
   ]
  },
  {
   "cell_type": "code",
   "execution_count": 151,
   "metadata": {
    "collapsed": false
   },
   "outputs": [
    {
     "name": "stdout",
     "output_type": "stream",
     "text": [
      "The Top 50 words\n",
      "the: 167\n",
      "of: 120\n",
      "and: 104\n",
      "to: 98\n",
      "in: 72\n",
      "a: 68\n",
      "data: 61\n",
      "credit: 34\n",
      "for: 31\n",
      "on: 30\n",
      "financi: 27\n",
      "it: 21\n",
      "market: 20\n",
      "use: 20\n",
      "that: 20\n",
      "this: 19\n",
      "with: 18\n",
      "compani: 17\n",
      "from: 16\n",
      "their: 16\n",
      "are: 16\n",
      "by: 16\n",
      "was: 16\n",
      "an: 14\n",
      "report: 13\n",
      "were: 13\n",
      "custom: 13\n",
      "inform: 12\n",
      "consum: 12\n",
      "provid: 12\n",
      "analyt: 12\n",
      "is: 12\n",
      "applic: 12\n",
      "or: 12\n",
      "institut: 12\n",
      "as: 12\n",
      "be: 11\n",
      "other: 11\n",
      "new: 10\n",
      "predict: 10\n",
      "bank: 10\n",
      "busi: 10\n",
      "act: 10\n",
      "can: 9\n",
      "they: 9\n",
      "price: 9\n",
      "these: 9\n",
      "big: 9\n",
      "analysi: 9\n",
      "risk: 8\n"
     ]
    }
   ],
   "source": [
    "import re\n",
    "from collections import Counter\n",
    "content = re.sub('\\s+', ' ', stem)  # condense all whitespace\n",
    "content = re.sub('[^A-Za-z ]+', '', content)  # remove non-alpha chars\n",
    "words = content.split()\n",
    "\n",
    "#remove stopwords\n",
    "from nltk.corpus import stopwords\n",
    "stop_words = set(stopwords.words('english'))\n",
    "for w in words:\n",
    "    if w not in stop_words:\n",
    "        word_count = Counter(words)\n",
    "n=50    \n",
    "\n",
    "\n",
    "        \n",
    "    # The Top-N words\n",
    "print(\"The Top {0} words\".format(n))\n",
    "for word, count in word_count.most_common(n):\n",
    "        print(\"{0}: {1}\".format(word, count))"
   ]
  },
  {
   "cell_type": "code",
   "execution_count": 152,
   "metadata": {
    "collapsed": false
   },
   "outputs": [
    {
     "name": "stdout",
     "output_type": "stream",
     "text": [
      "The Top 50 words\n",
      "the: 167\n",
      "of: 120\n",
      "and: 104\n",
      "to: 98\n",
      "in: 72\n",
      "a: 68\n",
      "data: 61\n",
      "credit: 34\n",
      "for: 31\n",
      "on: 30\n",
      "financi: 27\n",
      "it: 21\n",
      "market: 20\n",
      "use: 20\n",
      "that: 20\n",
      "this: 19\n",
      "with: 18\n",
      "compani: 17\n",
      "from: 16\n",
      "their: 16\n",
      "are: 16\n",
      "by: 16\n",
      "was: 16\n",
      "an: 14\n",
      "report: 13\n",
      "were: 13\n",
      "custom: 13\n",
      "inform: 12\n",
      "consum: 12\n",
      "provid: 12\n",
      "analyt: 12\n",
      "is: 12\n",
      "applic: 12\n",
      "or: 12\n",
      "institut: 12\n",
      "as: 12\n",
      "be: 11\n",
      "other: 11\n",
      "new: 10\n",
      "predict: 10\n",
      "bank: 10\n",
      "busi: 10\n",
      "act: 10\n",
      "can: 9\n",
      "they: 9\n",
      "price: 9\n",
      "these: 9\n",
      "big: 9\n",
      "analysi: 9\n",
      "risk: 8\n"
     ]
    }
   ],
   "source": [
    "import re\n",
    "from collections import Counter\n",
    "content = re.sub('\\s+', ' ', stem)  # condense all whitespace\n",
    "content = re.sub('[^A-Za-z ]+', '', content)  # remove non-alpha chars\n",
    "words = content.split()\n",
    "\n",
    "#remove stopwords\n",
    "from nltk.corpus import stopwords\n",
    "stop_words = ['u the', 'of']\n",
    "for w in words:\n",
    "    if w not in stop_words:\n",
    "        word_count = Counter(words)\n",
    "n=50    \n",
    "\n",
    "\n",
    "        \n",
    "    # The Top-N words\n",
    "print(\"The Top {0} words\".format(n))\n",
    "for word, count in word_count.most_common(n):\n",
    "        print(\"{0}: {1}\".format(word, count))"
   ]
  },
  {
   "cell_type": "code",
   "execution_count": 147,
   "metadata": {
    "collapsed": false
   },
   "outputs": [],
   "source": [
    "import json\n",
    "with open('data.txt', 'w') as TopWords:\n",
    "    json.dumps(word_count.most_common(100))"
   ]
  }
 ],
 "metadata": {
  "kernelspec": {
   "display_name": "Python 2",
   "language": "python",
   "name": "python2"
  },
  "language_info": {
   "codemirror_mode": {
    "name": "ipython",
    "version": 2
   },
   "file_extension": ".py",
   "mimetype": "text/x-python",
   "name": "python",
   "nbconvert_exporter": "python",
   "pygments_lexer": "ipython2",
   "version": "2.7.13"
  }
 },
 "nbformat": 4,
 "nbformat_minor": 2
}
