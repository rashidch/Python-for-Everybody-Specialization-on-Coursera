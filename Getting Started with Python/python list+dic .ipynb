{
 "cells": [
  {
   "cell_type": "code",
   "execution_count": 16,
   "metadata": {
    "collapsed": false
   },
   "outputs": [
    {
     "name": "stdout",
     "output_type": "stream",
     "text": [
      "Enter file name: mbox-short.txt\n",
      "0.847\n",
      "0.617\n",
      "0.696\n",
      "0.756\n",
      "0.762\n",
      "0.755\n",
      "0.700\n",
      "0.761\n",
      "0.760\n",
      "0.760\n",
      "0.695\n",
      "0.760\n",
      "0.755\n",
      "0.760\n",
      "0.693\n",
      "0.755\n",
      "0.652\n",
      "0.694\n",
      "0.652\n",
      "0.700\n",
      "0.755\n",
      "0.695\n",
      "0.695\n",
      "0.755\n",
      "0.984\n",
      "0.850\n",
      "0.990\n",
      "Average spam confidence: 0.750148148148\n"
     ]
    }
   ],
   "source": [
    "fname = raw_input(\"Enter file name: \")\n",
    "fh = open(fname)\n",
    "count=0\n",
    "sum=0\n",
    "for line in fh:\n",
    "    if not line.startswith(\"X-DSPAM-Confidence:\") : continue\n",
    "    count= count+1\n",
    "    print(line[20:25])\n",
    "    sum1 = (float(line[20:25]))\n",
    "    sum=sum + sum1\n",
    "a= sum/count    \n",
    "print \"Average spam confidence:\",a\n"
   ]
  }
 ],
 "metadata": {
  "anaconda-cloud": {},
  "kernelspec": {
   "display_name": "Python 2",
   "language": "python",
   "name": "python2"
  },
  "language_info": {
   "codemirror_mode": {
    "name": "ipython",
    "version": 2
   },
   "file_extension": ".py",
   "mimetype": "text/x-python",
   "name": "python",
   "nbconvert_exporter": "python",
   "pygments_lexer": "ipython2",
   "version": "2.7.13"
  }
 },
 "nbformat": 4,
 "nbformat_minor": 1
}
